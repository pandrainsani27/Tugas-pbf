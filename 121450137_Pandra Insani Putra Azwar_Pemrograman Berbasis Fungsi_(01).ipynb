{
 "cells": [
  {
   "cell_type": "markdown",
   "id": "88972949",
   "metadata": {},
   "source": [
    "# 1. Jelaskan menggunakan tabel mengenai kelebihan dan kekurangan paradigma Procedural dibandingkan dengan Object Oriented (minimal 3) !"
   ]
  },
  {
   "cell_type": "markdown",
   "id": "7d75da58",
   "metadata": {},
   "source": [
    "# Kelebihan Procedural dibandingkan object oriented"
   ]
  },
  {
   "cell_type": "code",
   "execution_count": 74,
   "id": "2099c3cd",
   "metadata": {},
   "outputs": [
    {
     "name": "stdout",
     "output_type": "stream",
     "text": [
      "╒════════════════════════════════════════════════════════════╤═════════════════════════════════════════════════════╕\n",
      "│ Procedural                                                 │ Oriented                                            │\n",
      "╞════════════════════════════════════════════════════════════╪═════════════════════════════════════════════════════╡\n",
      "│ Lebih mudah dipahami dibandingkan Object Oriented          │ Lebih sulit dipahami dibandingkan Procedural        │\n",
      "├────────────────────────────────────────────────────────────┼─────────────────────────────────────────────────────┤\n",
      "│ Membutuhkan memori lebih sedikit dibanding Object Oriented │ Membutuhkan memori lebih besar dibanding Procedural │\n",
      "├────────────────────────────────────────────────────────────┼─────────────────────────────────────────────────────┤\n",
      "│ Cocok untuk program/aplikasi sederhana                     │ Kurang cocok untuk program/aplikasi sederhana       │\n",
      "╘════════════════════════════════════════════════════════════╧═════════════════════════════════════════════════════╛\n"
     ]
    }
   ],
   "source": [
    "from tabulate import tabulate\n",
    "data = [[\"Lebih mudah dipahami dibandingkan Object Oriented\",\"Lebih sulit dipahami dibandingkan Procedural\"],\n",
    "        [\"Membutuhkan memori lebih sedikit dibanding Object Oriented\",\"Membutuhkan memori lebih besar dibanding Procedural\"]\n",
    "        ,[\"Cocok untuk program/aplikasi sederhana\",\"Kurang cocok untuk program/aplikasi sederhana\"]]\n",
    "print(tabulate(data, headers=[\"Procedural\",\"Oriented\"],tablefmt=\"fancy_grid\"))"
   ]
  },
  {
   "cell_type": "markdown",
   "id": "dd17719d",
   "metadata": {},
   "source": [
    "# Kekurangan Procedural dibandingkan Object Oriented"
   ]
  },
  {
   "cell_type": "code",
   "execution_count": 70,
   "id": "b4ebbecc",
   "metadata": {},
   "outputs": [
    {
     "name": "stdout",
     "output_type": "stream",
     "text": [
      "╒═════════════════════════════════════════════╤══════════════════════════════════════╕\n",
      "│ Procedural                                  │ Oriented                             │\n",
      "╞═════════════════════════════════════════════╪══════════════════════════════════════╡\n",
      "│ Kurang cocok untuk program/aplikasi complex │ Cocok untuk program/aplikasi complex │\n",
      "├─────────────────────────────────────────────┼──────────────────────────────────────┤\n",
      "│ Data Bersifat pasif                         │ Objek bersifat aktif                 │\n",
      "├─────────────────────────────────────────────┼──────────────────────────────────────┤\n",
      "│ Sulit dimodifikasi                          │ Lebih mudah dimodifikasi             │\n",
      "╘═════════════════════════════════════════════╧══════════════════════════════════════╛\n"
     ]
    }
   ],
   "source": [
    "from tabulate import tabulate\n",
    "data = [[\"Kurang cocok untuk program/aplikasi complex\",\"Cocok untuk program/aplikasi complex\"],\n",
    "        [\"Data Bersifat pasif\",\"Objek bersifat aktif\"],\n",
    "        [\"Sulit dimodifikasi\",\"Lebih mudah dimodifikasi\"]]\n",
    "        \n",
    "print(tabulate(data, headers=[\"Procedural\",\"Oriented\"],tablefmt=\"fancy_grid\"))"
   ]
  },
  {
   "cell_type": "markdown",
   "id": "4c7dc975",
   "metadata": {},
   "source": [
    "# 2. Jelaskan menggunakan tabel mengenai kelebihan dan kekurangan paradigma Object Oriented dibandingkan dengan Functional (minimal 3) !"
   ]
  },
  {
   "cell_type": "markdown",
   "id": "f03c308b",
   "metadata": {},
   "source": [
    "# Kekurangan Object Oriented dibandingkan Functional"
   ]
  },
  {
   "cell_type": "code",
   "execution_count": 79,
   "id": "954e5125",
   "metadata": {},
   "outputs": [
    {
     "name": "stdout",
     "output_type": "stream",
     "text": [
      "╒═════════════════════════════════════════════════════╤══════════════════════════════════════════════════════════╕\n",
      "│ Object Oriented                                     │ Functional                                               │\n",
      "╞═════════════════════════════════════════════════════╪══════════════════════════════════════════════════════════╡\n",
      "│ Membutuhkan memori lebih besar dibanding Functional │ Membutuhkan memori lebih kecil dibanding Object Oriented │\n",
      "├─────────────────────────────────────────────────────┼──────────────────────────────────────────────────────────┤\n",
      "│ Kode yang lebih banyak dibandingkan Functional      │ Kode yang lebih sedikit dibandingkan Object Oriented     │\n",
      "├─────────────────────────────────────────────────────┼──────────────────────────────────────────────────────────┤\n",
      "│ Tidak support parallel programming                  │ Support parallel programming                             │\n",
      "╘═════════════════════════════════════════════════════╧══════════════════════════════════════════════════════════╛\n"
     ]
    }
   ],
   "source": [
    "from tabulate import tabulate\n",
    "data = [[\"Membutuhkan memori lebih besar dibanding Functional\",\"Membutuhkan memori lebih kecil dibanding Object Oriented\"],\n",
    "        [\"Kode yang lebih banyak dibandingkan Functional\",\"Kode yang lebih sedikit dibandingkan Object Oriented\"],\n",
    "        [\"Tidak support parallel programming\",\"Support parallel programming\"]]\n",
    "        \n",
    "print(tabulate(data, headers=[\"Object Oriented\",\"Functional\"],tablefmt=\"fancy_grid\"))"
   ]
  },
  {
   "cell_type": "markdown",
   "id": "7bb72da5",
   "metadata": {},
   "source": [
    "# Kelebihan Object Oriented dibandingkan Functional"
   ]
  },
  {
   "cell_type": "code",
   "execution_count": 81,
   "id": "3611949b",
   "metadata": {},
   "outputs": [
    {
     "name": "stdout",
     "output_type": "stream",
     "text": [
      "╒════════════════════════════════════════════╤═══════════════════════════════════════════════════════════════╕\n",
      "│ Object Oriented                            │ Functional                                                    │\n",
      "╞════════════════════════════════════════════╪═══════════════════════════════════════════════════════════════╡\n",
      "│ Data bersifat mutable                      │ Data bersifat imutable                                        │\n",
      "├────────────────────────────────────────────┼───────────────────────────────────────────────────────────────┤\n",
      "│ Lebih cocok untuk project besar            │ Kurang cocok untuk project besar dibandingkan Object Oriented │\n",
      "├────────────────────────────────────────────┼───────────────────────────────────────────────────────────────┤\n",
      "│ Algoritma lebih jelas dibanding Functional │ Algoritma kurang jelas                                        │\n",
      "╘════════════════════════════════════════════╧═══════════════════════════════════════════════════════════════╛\n"
     ]
    }
   ],
   "source": [
    "from tabulate import tabulate\n",
    "data = [[\"Data bersifat mutable\",\"Data bersifat imutable\"],\n",
    "        [\"Lebih cocok untuk project besar\",\"Kurang cocok untuk project besar dibandingkan Object Oriented\"],\n",
    "        [\"Algoritma lebih jelas dibanding Functional\",\"Algoritma kurang jelas\"]]\n",
    "        \n",
    "print(tabulate(data, headers=[\"Object Oriented\",\"Functional\"],tablefmt=\"fancy_grid\"))"
   ]
  },
  {
   "cell_type": "markdown",
   "id": "f7069cdf",
   "metadata": {},
   "source": [
    "# 3. Jelaskan menggunakan tabel mengenai kelebihan dan kekurangan paradigma Procedural dibandingkan dengan Functional (minimal 3) !\n"
   ]
  },
  {
   "cell_type": "markdown",
   "id": "b57cb94c",
   "metadata": {},
   "source": [
    "# Kekurangan Procedural dibandingkan Functional"
   ]
  },
  {
   "cell_type": "code",
   "execution_count": 87,
   "id": "aced7470",
   "metadata": {},
   "outputs": [
    {
     "name": "stdout",
     "output_type": "stream",
     "text": [
      "╒═════════════════════════════════════════════╤═════════════════════════════════════════════════════════════╕\n",
      "│ Procedural                                  │ Functional                                                  │\n",
      "╞═════════════════════════════════════════════╪═════════════════════════════════════════════════════════════╡\n",
      "│ Debugging lebih susah dibanding functional  │ Debugging lebih mudah                                       │\n",
      "├─────────────────────────────────────────────┼─────────────────────────────────────────────────────────────┤\n",
      "│ Kurang cocok digunakan untuk tugas tertentu │ cocok digunakan untuk tugas tertentu                        │\n",
      "├─────────────────────────────────────────────┼─────────────────────────────────────────────────────────────┤\n",
      "│ Jarang menggunakan fungsi                   │ Lebih sering menggunakan fungsi sehingga kode lebih sedikit │\n",
      "╘═════════════════════════════════════════════╧═════════════════════════════════════════════════════════════╛\n"
     ]
    }
   ],
   "source": [
    "from tabulate import tabulate\n",
    "data = [[\"Debugging lebih susah dibanding functional\",\"Debugging lebih mudah\"],\n",
    "        [\"Kurang cocok digunakan untuk tugas tertentu\",\"cocok digunakan untuk tugas tertentu\"],\n",
    "        [\"Jarang menggunakan fungsi\",\"Lebih sering menggunakan fungsi sehingga kode lebih sedikit\"]]\n",
    "        \n",
    "print(tabulate(data, headers=[\"Procedural\",\"Functional\"],tablefmt=\"fancy_grid\"))"
   ]
  },
  {
   "cell_type": "markdown",
   "id": "33386cd2",
   "metadata": {},
   "source": [
    "# Kelebihan Procedural dibandingkan Functional"
   ]
  },
  {
   "cell_type": "code",
   "execution_count": 11,
   "id": "bab3049c",
   "metadata": {},
   "outputs": [
    {
     "name": "stdout",
     "output_type": "stream",
     "text": [
      "╒════════════════════════════╤════════════════════════════════════╕\n",
      "│ Procedural                 │ Functional                         │\n",
      "╞════════════════════════════╪════════════════════════════════════╡\n",
      "│ Data bersifat mutable      │ Data bersifat imutable             │\n",
      "├────────────────────────────┼────────────────────────────────────┤\n",
      "│ Lebih mudah dipahami       │ Lebih sulit dipahami               │\n",
      "├────────────────────────────┼────────────────────────────────────┤\n",
      "│ Penulisan loop yang normal │ Penulisan loop yang mengintimidasi │\n",
      "╘════════════════════════════╧════════════════════════════════════╛\n"
     ]
    }
   ],
   "source": [
    "from tabulate import tabulate\n",
    "data = [[\"Data bersifat mutable\",\"Data bersifat imutable\"],\n",
    "        [\"Lebih mudah dipahami\",\"Lebih sulit dipahami\"],\n",
    "        [\"Penulisan loop yang normal\",\"Penulisan loop yang mengintimidasi\"]]\n",
    "        \n",
    "print(tabulate(data, headers=[\"Procedural\",\"Functional\"],tablefmt=\"fancy_grid\"))"
   ]
  },
  {
   "cell_type": "markdown",
   "id": "7fdcbdd8",
   "metadata": {},
   "source": [
    "# 4. Apa yang dimaksud dengan pure functional programming language?\n"
   ]
  },
  {
   "cell_type": "markdown",
   "id": "0b3b0066",
   "metadata": {},
   "source": [
    "Functional programming adalah paradigma pemrograman yang ada sebelum munculnya object-oriented. Pada dasarnya, functional programming memperlakukan fungsi dan data sebagai immutable atau tidak berubah. Dalam functional programmin, function tidak boleh mengubah data asli atau status program."
   ]
  },
  {
   "cell_type": "markdown",
   "id": "ebf4d38c",
   "metadata": {},
   "source": [
    "# 5. Dari bahasa pemrograman FP di slide sebelumnya ( slide 14 ) , manakah yang termasuk pure functional programming language?\n"
   ]
  },
  {
   "cell_type": "markdown",
   "id": "17b0a6d6",
   "metadata": {},
   "source": [
    "1.Lisp\\\n",
    "2.Haskell\\\n",
    "3.Clojure\\"
   ]
  },
  {
   "cell_type": "markdown",
   "id": "c144a731",
   "metadata": {},
   "source": [
    "## 6. Membuat program Simple Password encryption, dengan ketentuan :\n",
    "## 1. Input password bertipe string dengan batasan panjang password 100 karakter\n",
    "## 2. Setiap karakter dari string tersebut diubah menjadi ASCII value\n",
    "## 3. Kemudian setiap ASCII value tersebut dikembangkan menjadi 3 value dengan dilakukan operasi berikut:\n",
    "1.Value pertama dibagi dengan integer 26 kemudian dibulatkan dan dijumlahkan dengan 80 kemudian diubah kembali menjadi karakter\\\n",
    "2.Value kedua dihitung sisa bagi dengan 26 kemudian dijumlahkan dengan 80 kemudian diubah kembali menjadi karakter\\\n",
    "3.Value ketiga adalah karakter '+' jika value pertama lebih besar dari value kedua, atau value ketiga adalah karakter '-' jika value pertama tidak lebih besar dari value kedua\\\n",
    "4.Deretkan value pertama, kedua dan ketiga untuk setiap karakter dalam password tersebut sehingga didapatkan password dalam bentuk baru"
   ]
  },
  {
   "cell_type": "markdown",
   "id": "4fa9c18d",
   "metadata": {},
   "source": [
    "# 1. Bantulah user tersebut dengan membuatkan sebuah program yang secara otomatis mengubah password yang di input menjadi terenkripsi sesuai aturan tersebut!"
   ]
  },
  {
   "cell_type": "code",
   "execution_count": 5,
   "id": "609fa64e",
   "metadata": {},
   "outputs": [],
   "source": [
    "# fungsi enkripsi\n",
    "def enkripsi(password):\n",
    "  # jika panjang karakter lebih dari 100\n",
    "  if len(password) > 100 or len(password) == 0:\n",
    "    print(\"Enter 1-100 characters\")\n",
    "  else:\n",
    "    # merubah setiap karakter menjadi kode ascii dan ditampung dalam list\n",
    "    ascii = [str(ord(i)) for i in password]\n",
    "    # membuat 3 value dari setiap kode ascii dan menggabungkan semuanya\n",
    "    enkri = ''.join(chr((int(j)//26)+80)+chr((int(j)%26)+80)+('+' if (int(j)//26)+80 > (int(j)%26)+80 else '-') for j in ascii)\n",
    "    # menampilkan hasil enkripsi\n",
    "    print(\"The encryption password is: \", enkri)\n",
    "\n",
    "# fungsi dekripsi\n",
    "def dekripsi(password):\n",
    "  # split 3 value \n",
    "  split_ps = [(password[k:k+3]) for k in range(0, len(password), 3)]\n",
    "  # membuat 3 value kembali ke kode ascii lalu ke karakter asli dan menggabungkan semuanya\n",
    "  dekri = ''.join(chr(((ord(list(z)[0])-80)*26)+(ord(list(z)[1])-80)) for z in split_ps)\n",
    "  # menampilkan hasil dekripsi\n",
    "  print(\"The password is: \", dekri)"
   ]
  },
  {
   "cell_type": "markdown",
   "id": "1514cb8a",
   "metadata": {},
   "source": [
    "# 2. Apa output yang dihasilkan dari program tersebut jika input password adalah 'anakanakcerdas2020' ?\n"
   ]
  },
  {
   "cell_type": "code",
   "execution_count": 6,
   "id": "014176b9",
   "metadata": {},
   "outputs": [
    {
     "name": "stdout",
     "output_type": "stream",
     "text": [
      "Enter Password: anakanakcerdas2020\n",
      "The encryption password is:  Sc-TV-Sc-TS+Sc-TV-Sc-TS+Se-Sg-TZ-Sf-Sc-T[-Qh-Qf-Qh-Qf-\n"
     ]
    }
   ],
   "source": [
    "# enkripsi\n",
    "password = input(\"Enter Password: \")\n",
    "enkripsi(password)"
   ]
  },
  {
   "cell_type": "markdown",
   "id": "a49699ac",
   "metadata": {},
   "source": [
    "# 3. (Bonus) User tersebut lupa password asli yang dia inputkan ke dalam program tersebut, password setelah dienkripsi adalah 'Sc-TV-Sc-TS+T[-Sc-TQ+TV-T[-Sf-Sc-T-Sc-Qh-Qf-Qh-Qf-TS+Sg-Se-Sg-'. Bantulah user tersebut mendapatkan password asli nya!"
   ]
  },
  {
   "cell_type": "code",
   "execution_count": 9,
   "id": "9fff3947",
   "metadata": {},
   "outputs": [
    {
     "name": "stdout",
     "output_type": "stream",
     "text": [
      "Enter the encryption password: Sc-TV-Sc-TS+T[-Sc-TQ+TV-T[-Sf-Sc-T\\-Sc-Qh-Qf-Qh-Qf-TS+Sg-Se-Sg-\n",
      "The password is:  anaksainsdata2020kece\n"
     ]
    }
   ],
   "source": [
    "# dekripsi\n",
    "enk = input(\"Enter the encryption password: \")\n",
    "dekripsi(enk)"
   ]
  }
 ],
 "metadata": {
  "kernelspec": {
   "display_name": "Python 3 (ipykernel)",
   "language": "python",
   "name": "python3"
  },
  "language_info": {
   "codemirror_mode": {
    "name": "ipython",
    "version": 3
   },
   "file_extension": ".py",
   "mimetype": "text/x-python",
   "name": "python",
   "nbconvert_exporter": "python",
   "pygments_lexer": "ipython3",
   "version": "3.11.1"
  }
 },
 "nbformat": 4,
 "nbformat_minor": 5
}
